{
 "cells": [
  {
   "cell_type": "code",
   "execution_count": 1,
   "id": "6904ded0",
   "metadata": {},
   "outputs": [],
   "source": [
    "import pandas as pd\n",
    "import numpy as np\n",
    "import seaborn as sb\n",
    "import matplotlib.pyplot as plt\n",
    "import spacy\n",
    "import validators as val\n",
    "import string\n",
    "import warnings \n",
    "\n",
    "from tensorflow.keras.preprocessing.text import Tokenizer\n",
    "from tensorflow.keras.preprocessing.sequence import pad_sequences\n",
    "\n",
    "from sklearn.model_selection import train_test_split\n",
    "from sklearn.metrics import classification_report, confusion_matrix, f1_score, accuracy_score, recall_score\n",
    "from sklearn.utils import class_weight\n",
    "\n",
    "import tensorflow as tf\n",
    "from tensorflow.keras import backend as K\n",
    "from tensorflow.keras.layers import LSTM, Dense, Dropout, BatchNormalization, Embedding, Input\n",
    "from tensorflow.keras.models import Model\n",
    "from tensorflow.keras.optimizers import Adam\n",
    "from tensorflow.keras.callbacks import ModelCheckpoint\n",
    "\n",
    "warnings.filterwarnings (\"ignore\")\n",
    "\n",
    "en_model = spacy.load('en_core_web_md')"
   ]
  },
  {
   "cell_type": "code",
   "execution_count": 2,
   "id": "a891e1cb",
   "metadata": {},
   "outputs": [],
   "source": [
    "df = pd.read_csv(\"Tweet_NFT.xlsx - Sheet1.csv\")"
   ]
  },
  {
   "cell_type": "code",
   "execution_count": 3,
   "id": "849646a7",
   "metadata": {},
   "outputs": [
    {
     "name": "stdout",
     "output_type": "stream",
     "text": [
      "<class 'pandas.core.frame.DataFrame'>\n",
      "RangeIndex: 127453 entries, 0 to 127452\n",
      "Data columns (total 4 columns):\n",
      " #   Column            Non-Null Count   Dtype \n",
      "---  ------            --------------   ----- \n",
      " 0   id                127453 non-null  int64 \n",
      " 1   tweet_text        127453 non-null  object\n",
      " 2   tweet_created_at  127453 non-null  object\n",
      " 3   tweet_intent      96364 non-null   object\n",
      "dtypes: int64(1), object(3)\n",
      "memory usage: 3.9+ MB\n"
     ]
    }
   ],
   "source": [
    "df.info()"
   ]
  },
  {
   "cell_type": "code",
   "execution_count": 4,
   "id": "277e948c",
   "metadata": {},
   "outputs": [],
   "source": [
    "# fill null values will 'null'\n",
    "df.fillna('null',inplace=True)"
   ]
  },
  {
   "cell_type": "code",
   "execution_count": 5,
   "id": "fb5d82e6",
   "metadata": {},
   "outputs": [
    {
     "data": {
      "text/plain": [
       "((31089, 4), (96364, 4))"
      ]
     },
     "execution_count": 5,
     "metadata": {},
     "output_type": "execute_result"
    }
   ],
   "source": [
    "# now, to seperate the data\n",
    "# the data with no null values will used for model training purposes\n",
    "# the model will then predict the missing intent in other data\n",
    "\n",
    "test = df[df.tweet_intent=='null'].reset_index(drop=True) #data with missing intents\n",
    "df = df[df.tweet_intent!='null'].reset_index(drop=True) #data for model training\n",
    "test.shape,df.shape"
   ]
  },
  {
   "cell_type": "code",
   "execution_count": 6,
   "id": "04f2f681",
   "metadata": {},
   "outputs": [
    {
     "name": "stdout",
     "output_type": "stream",
     "text": [
      "0 @Bluebit_io Trading floor ðŸ‘‰ https://t.co/9hUN1I5pFk\n",
      "\n",
      "Home page ðŸ‘‰ https://t.co/VdmRRqQ96A\n",
      "\n",
      "NFT Marketplace ðŸ‘‰https://t.co/6eOlEfxX8i\n",
      "\n",
      "APPLE App ðŸ‘‰https://t.co/wnui1luewJ\n",
      "\n",
      "#CryptoNews #Altcoins #NFTs #cryptocurrencies #DeFi #BlueBit #BlueSparrowCommunity #BlueSparrow #BlueSparrowCEX https://t.co/bpyaG8Aph6 --- Community\n",
      "\n",
      "1 @fafakissnft Join undead nft project. 10 ledgers each containing 100 #egld will be hidden in random locations for anyone to find.\n",
      "Also:\n",
      "1.Great design\n",
      "   2.Great community\n",
      "      3.Great #TreasureHunt\n",
      "ðŸ¤‘ðŸ’¸ðŸ¤‘\n",
      "Twitter: @undead_gold \n",
      "Telegram: https://t.co/6CLIR7XPrm --- Community\n",
      "\n",
      "2 ðŸŽ‰ Just registered for the Murakami Lucky Cat Coin Bank Lottery on @PREMINT_NFT! https://t.co/jZtUM9YQLK --- Presale\n",
      "\n",
      "3 Eerie\n",
      "by Thebetterpicture\n",
      "\n",
      "https://t.co/NuJaUy0duO\n",
      "\n",
      "ðŸ’‚ ðŸ˜Ž ðŸ†™ ðŸ–¨ ðŸŠ ðŸ™Œ 6ï¸âƒ£ ðŸ  â˜  ðŸƒ\n",
      "\n",
      "#nft #nftart #crypto #opensea #rarible #eerie #fiction #ghost #gothgirl #darkart #spooky #haunted #beautiful #norse #thor #dccomics #marvel #shadow #ufo #ufosighting #ominous #gothfashion #gothgirl https://t.co/Y3I8qCaWFF --- Appreciation\n",
      "\n",
      "4 Nail your NFTs with experts!! Join the global best talent platform. Choose your expert regarding NFT project!! \n",
      "https://t.co/XxmPw0XOe3\n",
      "\n",
      "#NFTProject #NFTcollections #nftmarketplace #NFTCommunity #nftartiÌ‡st #nftart #nft #NFTGame #NFTartwork #3DNFT #nft https://t.co/zLiQsJRljA --- Community\n",
      "\n",
      "5 @ranareign_25722 @xloyality_Army @XcharityClub @leokings_nft @MEGAMANXRP @ShibaNFTXRPL @Xrpl_Apes @EndTheGlobe \n",
      "Good project --- Appreciation\n",
      "\n",
      "6 I joined the Dininhos Premint via @PREMINT_NFT https://t.co/ifY8LOr15T --- Presale\n",
      "\n",
      "7 @PhunkBot Feature it on @Globalnft07\n",
      "We have a great community of nft artists and nft collectors --- Community\n",
      "\n",
      "8 @sanj1807 Feature it on @Globalnft07\n",
      "We have a great community of nft artists and nft collectors --- Community\n",
      "\n",
      "9 GreatcatsVault bought Poet #11510 for 0.19Îž ($267.31) #NFT  https://t.co/WVpaHOYvos --- Appreciation\n",
      "\n"
     ]
    }
   ],
   "source": [
    "# checking randomly picked tweets\n",
    "for _ in range(10):\n",
    "    i = np.random.randint(0,len(df))\n",
    "    print(_,df.tweet_text[i]+' --- '+df.tweet_intent[i]+'\\n')"
   ]
  },
  {
   "cell_type": "code",
   "execution_count": 7,
   "id": "596b8715",
   "metadata": {},
   "outputs": [
    {
     "data": {
      "text/plain": [
       "<AxesSubplot:xlabel='tweet_intent', ylabel='count'>"
      ]
     },
     "execution_count": 7,
     "metadata": {},
     "output_type": "execute_result"
    },
    {
     "data": {
      "image/png": "[encoded data removed]",
      "text/plain": [
       "<Figure size 720x432 with 1 Axes>"
      ]
     },
     "metadata": {
      "needs_background": "light"
     },
     "output_type": "display_data"
    }
   ],
   "source": [
    "# visualizing intent class counts\n",
    "plt.figure(figsize=(10,6))\n",
    "sb.countplot(x=df.tweet_intent)"
   ]
  },
  {
   "cell_type": "code",
   "execution_count": 8,
   "id": "c903d124",
   "metadata": {},
   "outputs": [],
   "source": [
    "# from the tweets, URLs, twitter handles, punctuations, numbers and '#' from hashtags will be removed\n",
    "# and the cleaned text will only include cleaned text\n",
    "\n",
    "def clean_text(text):\n",
    "    toks = text.split()\n",
    "    toks = [t for t in toks if not val.url(t) and '@' not in t]\n",
    "    toks = ' '.join(toks)\n",
    "    for p in string.punctuation:\n",
    "        if p not in ('#','@'):\n",
    "            toks = toks.replace(p,' ')\n",
    "    toks = toks.lower().split()\n",
    "    toks = [t for t in toks if '@' not in t]\n",
    "    toks = en_model(\" \".join(toks))\n",
    "    toks = [t for t in toks if str(t)!=\"'s\"]\n",
    "    toks = [t for t in toks if not t.is_stop and not t.is_digit]\n",
    "    toks = [str(t) for t in toks if len(str(t))>1 and t.is_alpha]\n",
    "    return ' '.join(toks)"
   ]
  },
  {
   "cell_type": "code",
   "execution_count": 9,
   "id": "fed2d30e",
   "metadata": {},
   "outputs": [
    {
     "name": "stdout",
     "output_type": "stream",
     "text": [
      "Original : @SundayMondayBot Feature it on @Globalnft07\n",
      "We have a great community of nft artists and nft collectors\n",
      "\n",
      "Cleaned : feature great community nft artists nft collectors\n",
      "\n",
      "Intent : Community\n",
      "-------------------------------------------------------\n",
      "Original : @smarcelo PROJECT 21 - THE BEST GAMEFI PROJECT ON BSC\n",
      "âœ…Multistage deflation tool - PRO21\n",
      "âœ…Multi-feature NFT\n",
      "âœ…App on AppStore and Google Play\n",
      "âœ…Presale in August.\n",
      "\n",
      "$P21 IS GOING TO THE MOON!\n",
      "Whitelist: https://t.co/7PsDxNxB2o\n",
      "TG: https://t.co/EgO2W3RB2X\n",
      "#Project21 #P21 #Gamefi\n",
      "\n",
      "Cleaned : project best gamefi project bsc âœ multistage deflation tool âœ multi feature nft âœ app appstore google play âœ presale august going moon whitelist tg gamefi\n",
      "\n",
      "Intent : Whitelist\n",
      "-------------------------------------------------------\n",
      "Original : @autumngives @DjPrestigeUk @princesspromos_ @Yae_NFT Bismillh\n",
      "Done all rulles\n",
      "\n",
      "Cleaned : bismillh rulles\n",
      "\n",
      "Intent : Done\n",
      "-------------------------------------------------------\n",
      "Original : Seedify NFT Space Expansion Giveaway ðŸ”¥ https://t.co/TbsbdnjtCc\n",
      "\n",
      "Cleaned : seedify nft space expansion giveaway\n",
      "\n",
      "Intent : Giveaway\n",
      "-------------------------------------------------------\n",
      "Original : ðŸ˜º CatsBank NFT Collection ðŸ˜º\n",
      "ðŸ”¥ Grab it before they gone! ðŸ”¥\n",
      "https://t.co/G0GCxq85oV\n",
      "\n",
      "#NFTcommunity #NFTs #CatsBank #Moonboxes #NFTcollectibles #Binance #NFTart #NFTproject #NFTlover #CatsOnTwitter $MSHOT https://t.co/fQPwsMo0t7\n",
      "\n",
      "Cleaned : catsbank nft collection grab gone nftcommunity nfts catsbank moonboxes nftcollectibles binance nftart nftproject nftlover catsontwitter mshot\n",
      "\n",
      "Intent : Community\n",
      "-------------------------------------------------------\n",
      "Original : @nft_cryptogang ðŸš€1st Ever Safu Project Officially Approved By PinksaleðŸš€TikTak Token created by two bright students to prove that a bright future in crypto is not a dream! No chance of scam!A long term investment opportunity\n",
      "Tg: https://t.co/CbNSk9Whkz\n",
      "Twitter: @tiktakstudy #SAFU\n",
      "#tiktak â‚¬8063 https://t.co/I0LswA7WAl\n",
      "\n",
      "Cleaned : safu project officially approved token created bright students prove bright future crypto dream chance scam long term investment opportunity tg twitter safu tiktak\n",
      "\n",
      "Intent : pinksale\n",
      "-------------------------------------------------------\n"
     ]
    }
   ],
   "source": [
    "# checking original vs cleaned text\n",
    "for _ in range(6):\n",
    "    i = np.random.randint(0,len(df))\n",
    "    print('Original : '+df.tweet_text[i]+'\\n\\nCleaned : '+clean_text(df.tweet_text[i]))\n",
    "    print('\\nIntent :',df.tweet_intent[i])\n",
    "    print('-------------------------------------------------------')"
   ]
  },
  {
   "cell_type": "code",
   "execution_count": 10,
   "id": "c6bbf7df",
   "metadata": {},
   "outputs": [],
   "source": [
    "# create seperate column for cleaned text\n",
    "df['clean_text'] = df.tweet_text.apply(lambda x: clean_text(x))"
   ]
  },
  {
   "cell_type": "code",
   "execution_count": 11,
   "id": "071d3276",
   "metadata": {},
   "outputs": [],
   "source": [
    "df.clean_text = df.clean_text.apply(lambda x: str(x).replace('amp','')) #some remaining cleaning"
   ]
  },
  {
   "cell_type": "code",
   "execution_count": 12,
   "id": "ab1ef8f0",
   "metadata": {},
   "outputs": [],
   "source": [
    "#get word count of cleaned text\n",
    "df['word_count'] = df.clean_text.apply(lambda x: len(str(x).split())) "
   ]
  },
  {
   "cell_type": "code",
   "execution_count": 13,
   "id": "a7c5e302",
   "metadata": {},
   "outputs": [],
   "source": [
    "df=df.drop('id',axis=1)"
   ]
  },
  {
   "cell_type": "code",
   "execution_count": 14,
   "id": "57001d65",
   "metadata": {},
   "outputs": [
    {
     "data": {
      "text/plain": [
       "<AxesSubplot:xlabel='tweet_intent', ylabel='word_count'>"
      ]
     },
     "execution_count": 14,
     "metadata": {},
     "output_type": "execute_result"
    },
    {
     "data": {
      "image/png": "[encoded data removed]",
      "text/plain": [
       "<Figure size 720x432 with 1 Axes>"
      ]
     },
     "metadata": {
      "needs_background": "light"
     },
     "output_type": "display_data"
    }
   ],
   "source": [
    "# visualizing mean word count of every intent\n",
    "mean_word_count = df.groupby('tweet_intent').mean()\n",
    "plt.figure(figsize=(10,6))\n",
    "sb.barplot(data = mean_word_count,y='word_count',x=mean_word_count.index)"
   ]
  },
  {
   "cell_type": "code",
   "execution_count": 15,
   "id": "39a8f93c",
   "metadata": {},
   "outputs": [
    {
     "data": {
      "text/plain": [
       "((61672, 45), (19273, 45), (15419, 45))"
      ]
     },
     "execution_count": 15,
     "metadata": {},
     "output_type": "execute_result"
    }
   ],
   "source": [
    "# splitting data\n",
    "\n",
    "X = df.clean_text #input text\n",
    "categs = list(df.tweet_intent.unique())\n",
    "mapping = dict([(x,i) for i,x in enumerate(categs)])\n",
    "y = df.tweet_intent.map(mapping) #mapped intents (0 to 8)\n",
    "\n",
    "# splitting data for training, validation and testing \n",
    "xtrain,xtest,ytrain,ytest = train_test_split(X,y,train_size=0.8)\n",
    "xtrain,xval,ytrain,yval = train_test_split(xtrain,ytrain,train_size=0.8)\n",
    "\n",
    "maxlen = df.word_count.max() #max input length\n",
    "\n",
    "# tokenizing and padding the data\n",
    "tk = Tokenizer()\n",
    "tk.fit_on_texts(X)\n",
    "\n",
    "seq = tk.texts_to_sequences(xtrain)\n",
    "xtrain = pad_sequences(seq,maxlen=maxlen,padding='post')\n",
    "\n",
    "seq = tk.texts_to_sequences(xval)\n",
    "xval = pad_sequences(seq,maxlen=maxlen,padding='post')\n",
    "\n",
    "seq = tk.texts_to_sequences(xtest)\n",
    "xtest = pad_sequences(seq,maxlen=maxlen,padding='post')\n",
    "\n",
    "x_voc = len(tk.word_counts)+1\n",
    "\n",
    "xtrain.shape,xtest.shape,xval.shape"
   ]
  },
  {
   "cell_type": "code",
   "execution_count": 16,
   "id": "0b59859f",
   "metadata": {},
   "outputs": [
    {
     "name": "stdout",
     "output_type": "stream",
     "text": [
      "Loading Glove Model\n",
      "400000 words loaded!\n"
     ]
    }
   ],
   "source": [
    "# loading pretrained glove embeddings\n",
    "def load_glove_model(File):\n",
    "    print(\"Loading Glove Model\")\n",
    "    glove_model = {}\n",
    "    with open(File,'r',encoding='utf-8') as f:\n",
    "        for line in f:\n",
    "            split_line = line.split()\n",
    "            word = split_line[0]\n",
    "            embedding = np.array(split_line[1:], dtype=np.float64)\n",
    "            glove_model[word] = embedding\n",
    "    print(f\"{len(glove_model)} words loaded!\")\n",
    "    return glove_model\n",
    " \n",
    "glove_embeddings = load_glove_model(\"D:/glove.6B.300d.txt\")"
   ]
  },
  {
   "cell_type": "code",
   "execution_count": 17,
   "id": "ef0b4860",
   "metadata": {},
   "outputs": [],
   "source": [
    "# creating embedding matrix\n",
    "emb = np.zeros((x_voc,300))\n",
    "for w,idx in tk.word_index.items():\n",
    "    try: emb[idx] = glove_embeddings[w]\n",
    "    except: pass"
   ]
  },
  {
   "cell_type": "code",
   "execution_count": 18,
   "id": "70c94a1e",
   "metadata": {},
   "outputs": [],
   "source": [
    "# providing class weights as the data seems very imbalanced\n",
    "weight = class_weight.compute_class_weight('balanced',y=ytrain,classes=np.unique(ytrain))\n",
    "weight = dict([(i,x) for i,x in enumerate(weight)])"
   ]
  },
  {
   "cell_type": "code",
   "execution_count": 19,
   "id": "9031efe2",
   "metadata": {},
   "outputs": [],
   "source": [
    "# custom linear attention layer\n",
    "class LinearAttention(tf.keras.layers.Layer):\n",
    "    def __init__(self,**kwargs):\n",
    "        super().__init__(**kwargs)\n",
    "    \n",
    "    def build(self,input_shape):\n",
    "        self.W=self.add_weight(name='attention_weight', shape=(input_shape[-1],1), \n",
    "                               initializer='random_normal', trainable=True)\n",
    "        self.b=self.add_weight(name='attention_bias', shape=(input_shape[1],1), \n",
    "                               initializer='zeros', trainable=True)\n",
    "        super().build(input_shape)\n",
    " \n",
    "    \n",
    "    def call(self,x):\n",
    "        e = K.tanh(K.dot(x,self.W)+self.b)\n",
    "        e = K.squeeze(e, axis=-1)   \n",
    "        alpha = K.softmax(e)\n",
    "        alpha = K.expand_dims(alpha, axis=-1)\n",
    "        context = x * alpha\n",
    "        context = K.sum(context, axis=1)\n",
    "        return context"
   ]
  },
  {
   "cell_type": "code",
   "execution_count": 20,
   "id": "66991aee",
   "metadata": {},
   "outputs": [
    {
     "name": "stdout",
     "output_type": "stream",
     "text": [
      "Model: \"lstm_model\"\n",
      "_________________________________________________________________\n",
      " Layer (type)                Output Shape              Param #   \n",
      "=================================================================\n",
      " input_1 (InputLayer)        [(None, 45)]              0         \n",
      "                                                                 \n",
      " embedding (Embedding)       (None, 45, 300)           8633400   \n",
      "                                                                 \n",
      " lstm (LSTM)                 (None, 45, 300)           721200    \n",
      "                                                                 \n",
      " linear_attention (LinearAtt  (None, 300)              345       \n",
      " ention)                                                         \n",
      "                                                                 \n",
      " dense (Dense)               (None, 100)               30100     \n",
      "                                                                 \n",
      " dropout (Dropout)           (None, 100)               0         \n",
      "                                                                 \n",
      " dense_1 (Dense)             (None, 9)                 909       \n",
      "                                                                 \n",
      "=================================================================\n",
      "Total params: 9,385,954\n",
      "Trainable params: 9,385,954\n",
      "Non-trainable params: 0\n",
      "_________________________________________________________________\n"
     ]
    }
   ],
   "source": [
    "# LSTM based model with attention\n",
    "inputs = Input((maxlen,))\n",
    "x = Embedding(x_voc,emb.shape[1],weights=[emb],trainable=True)(inputs)\n",
    "x = LSTM(300,return_sequences=True)(x)\n",
    "x = LinearAttention()(x)\n",
    "x = Dense(100,activation='relu')(x)\n",
    "x = Dropout(0.1)(x)\n",
    "x = Dense(len(mapping),activation='softmax')(x)\n",
    "\n",
    "model = Model(inputs=inputs,outputs=x,name='lstm_model')\n",
    "model.compile(loss='sparse_categorical_crossentropy',optimizer=Adam(learning_rate=7e-4),metrics='accuracy')\n",
    "model.summary()\n"
   ]
  },
  {
   "cell_type": "code",
   "execution_count": 21,
   "id": "cd3de9c8",
   "metadata": {},
   "outputs": [
    {
     "name": "stdout",
     "output_type": "stream",
     "text": [
      "Epoch 1/4\n",
      "964/964 [==============================] - 20s 18ms/step - loss: 0.5852 - accuracy: 0.8231 - val_loss: 0.2534 - val_accuracy: 0.9350\n",
      "Epoch 2/4\n",
      "964/964 [==============================] - 18s 19ms/step - loss: 0.2015 - accuracy: 0.9429 - val_loss: 0.2076 - val_accuracy: 0.9501\n",
      "Epoch 3/4\n",
      "964/964 [==============================] - 21s 22ms/step - loss: 0.1535 - accuracy: 0.9556 - val_loss: 0.1822 - val_accuracy: 0.9525\n",
      "Epoch 4/4\n",
      "964/964 [==============================] - 22s 22ms/step - loss: 0.1124 - accuracy: 0.9632 - val_loss: 0.1803 - val_accuracy: 0.9532\n"
     ]
    },
    {
     "data": {
      "text/plain": [
       "<keras.callbacks.History at 0x1d9b8f0b5b0>"
      ]
     },
     "execution_count": 21,
     "metadata": {},
     "output_type": "execute_result"
    }
   ],
   "source": [
    "# training the model and saving the best weights\n",
    "checkpoint = ModelCheckpoint('lstm_best_weights.h5',save_best_only=True)\n",
    "model.fit(xtrain,ytrain,validation_data=(xval,yval),epochs=4,batch_size=64,callbacks=[checkpoint],class_weight=weight)"
   ]
  },
  {
   "cell_type": "code",
   "execution_count": 22,
   "id": "cba46f81",
   "metadata": {},
   "outputs": [
    {
     "name": "stdout",
     "output_type": "stream",
     "text": [
      "603/603 [==============================] - 3s 5ms/step - loss: 0.1807 - accuracy: 0.9518\n"
     ]
    },
    {
     "data": {
      "text/plain": [
       "[0.18066149950027466, 0.9517978429794312]"
      ]
     },
     "execution_count": 22,
     "metadata": {},
     "output_type": "execute_result"
    }
   ],
   "source": [
    "# load model best weights and evaluate with testing data\n",
    "model.load_weights('lstm_best_weights.h5')\n",
    "model.evaluate(xtest,ytest)"
   ]
  },
  {
   "cell_type": "code",
   "execution_count": 23,
   "id": "1d1bbad6",
   "metadata": {},
   "outputs": [
    {
     "name": "stdout",
     "output_type": "stream",
     "text": [
      "482/482 [==============================] - 2s 4ms/step\n",
      "              precision    recall  f1-score   support\n",
      "\n",
      "           0       0.98      0.97      0.98      6679\n",
      "           1       1.00      0.94      0.97      3421\n",
      "           2       0.96      0.96      0.96      2611\n",
      "           3       0.95      0.98      0.96       776\n",
      "           4       0.84      0.88      0.86      1315\n",
      "           5       0.93      0.99      0.95        75\n",
      "           6       0.69      0.91      0.79       479\n",
      "           7       0.84      0.96      0.90        50\n",
      "           8       0.65      1.00      0.79        13\n",
      "\n",
      "    accuracy                           0.95     15419\n",
      "   macro avg       0.87      0.95      0.91     15419\n",
      "weighted avg       0.96      0.95      0.95     15419\n",
      "\n"
     ]
    },
    {
     "data": {
      "text/plain": [
       "<AxesSubplot:>"
      ]
     },
     "execution_count": 23,
     "metadata": {},
     "output_type": "execute_result"
    },
    {
     "data": {
      "image/png": "[encoded data removed]",
      "text/plain": [
       "<Figure size 432x432 with 2 Axes>"
      ]
     },
     "metadata": {
      "needs_background": "light"
     },
     "output_type": "display_data"
    }
   ],
   "source": [
    "# classification report and confusion matrix of validation data\n",
    "pred = model.predict(xval)\n",
    "pred = [np.argmax(x) for x in pred]\n",
    "print(classification_report(yval,pred))\n",
    "plt.figure(figsize=(6,6))\n",
    "sb.heatmap(confusion_matrix(yval,pred),annot=True,fmt='d',cmap='Blues')"
   ]
  },
  {
   "cell_type": "code",
   "execution_count": 24,
   "id": "c6c31a27",
   "metadata": {},
   "outputs": [
    {
     "name": "stdout",
     "output_type": "stream",
     "text": [
      "603/603 [==============================] - 2s 4ms/step\n",
      "              precision    recall  f1-score   support\n",
      "\n",
      "           0       0.98      0.97      0.98      8273\n",
      "           1       1.00      0.94      0.97      4183\n",
      "           2       0.94      0.96      0.95      3323\n",
      "           3       0.95      0.97      0.96      1005\n",
      "           4       0.85      0.87      0.86      1699\n",
      "           5       0.94      0.99      0.96        96\n",
      "           6       0.70      0.92      0.79       609\n",
      "           7       0.77      1.00      0.87        55\n",
      "           8       0.81      0.97      0.88        30\n",
      "\n",
      "    accuracy                           0.95     19273\n",
      "   macro avg       0.88      0.95      0.91     19273\n",
      "weighted avg       0.96      0.95      0.95     19273\n",
      "\n"
     ]
    },
    {
     "data": {
      "text/plain": [
       "<AxesSubplot:>"
      ]
     },
     "execution_count": 24,
     "metadata": {},
     "output_type": "execute_result"
    },
    {
     "data": {
      "image/png": "[encoded data removed]",
      "text/plain": [
       "<Figure size 432x432 with 2 Axes>"
      ]
     },
     "metadata": {
      "needs_background": "light"
     },
     "output_type": "display_data"
    }
   ],
   "source": [
    "# classification report and confusion matrix of testing data\n",
    "pred = model.predict(xtest)\n",
    "pred = [np.argmax(x) for x in pred]\n",
    "print(classification_report(ytest,pred))\n",
    "plt.figure(figsize=(6,6))\n",
    "sb.heatmap(confusion_matrix(ytest,pred),annot=True,fmt='d',cmap='Blues')"
   ]
  },
  {
   "cell_type": "code",
   "execution_count": 25,
   "id": "cb43bf0b",
   "metadata": {},
   "outputs": [],
   "source": [
    "# now trying a transformer based model\n",
    "# this model encodes the whole sequence at onec, unlike the former\n",
    "# it uses multi-head attention\n",
    "\n",
    "emb = np.zeros((x_voc,300))\n",
    "for w,idx in tk.word_index.items():\n",
    "    try: emb[idx] = glove_embeddings[w]\n",
    "    except: pass"
   ]
  },
  {
   "cell_type": "code",
   "execution_count": 26,
   "id": "885db7c8",
   "metadata": {},
   "outputs": [],
   "source": [
    "# custom transformer layer\n",
    "class TransformerLayer(tf.keras.layers.Layer):\n",
    "    def __init__(self, emb_dim, num_heads, dense_units, dropout_rate=0.1,**kwargs):\n",
    "        self.dim = emb_dim\n",
    "        self.heads = num_heads\n",
    "        self.units = dense_units\n",
    "        self.rate = dropout_rate\n",
    "        super().__init__(**kwargs)\n",
    "    \n",
    "    def build(self,input_shape):\n",
    "        self.ln1 = tf.keras.layers.LayerNormalization(epsilon=1e-6)\n",
    "        self.ln2 = tf.keras.layers.LayerNormalization(epsilon=1e-6)\n",
    "        self.drop1 = Dropout(self.rate)\n",
    "        self.drop2 = Dropout(self.rate)\n",
    "        self.ff = Dense(self.units,activation='relu')\n",
    "        self.ff_out = Dense(self.dim)\n",
    "        self.attn = tf.keras.layers.MultiHeadAttention(num_heads=self.heads, key_dim=self.dim)\n",
    "        super().build(input_shape)\n",
    "        \n",
    "    def call(self,inputs):\n",
    "        att_out = self.attn(inputs,inputs)\n",
    "        att_out = self.drop1(att_out)\n",
    "        ln_out = self.ln1(att_out+inputs)\n",
    "        ff_out = self.ff(ln_out)\n",
    "        ff_out = self.ff_out(ff_out)\n",
    "        ff_out = self.drop2(ff_out)\n",
    "        return self.ln2(ln_out+ff_out)\n",
    "    \n",
    "    def get_config(self):\n",
    "        config = super().get_config()\n",
    "        config.update({\n",
    "        'emb_dim' : self.dim,\n",
    "        'num_heads' : self.heads, \n",
    "        'dense_units' : self.units,\n",
    "        'dropout_rate' : self.rate})\n",
    "        return config\n",
    "        "
   ]
  },
  {
   "cell_type": "code",
   "execution_count": 27,
   "id": "b3a5e979",
   "metadata": {},
   "outputs": [],
   "source": [
    "# custom word embedding layer\n",
    "class WordnPosEmb(tf.keras.layers.Layer):\n",
    "    def __init__(self,maxlen,vocab_size,emb_dim,pretrained_weights=None,**kwargs):\n",
    "        self.max = maxlen\n",
    "        self.voc = vocab_size\n",
    "        self.dim = emb_dim\n",
    "        self.pretrained = pretrained_weights\n",
    "        super().__init__(**kwargs)\n",
    "        \n",
    "    def build(self,input_shape):\n",
    "        self.word_emb = Embedding(input_dim=self.voc,output_dim=self.dim,weights=[self.pretrained],trainable=True)\n",
    "        self.pos_emb = Embedding(input_dim=self.max,output_dim=self.dim)\n",
    "        super().build(input_shape)\n",
    "    \n",
    "    def call(self,x):\n",
    "        pos = tf.shape(x)[-1]\n",
    "        pos = self.pos_emb(pos)\n",
    "        x = self.word_emb(x)\n",
    "        return x+pos\n",
    "    \n",
    "    def get_config(self):\n",
    "        config = super().get_config()\n",
    "        config.update({\n",
    "        'maxlen':self.max,\n",
    "        'vocab_size':self.voc,\n",
    "        'emb_dim':self.dim,\n",
    "        'pretrained_weights':self.pretrained})\n",
    "        return config\n",
    "    \n",
    "        "
   ]
  },
  {
   "cell_type": "code",
   "execution_count": 28,
   "id": "80c9602c",
   "metadata": {},
   "outputs": [
    {
     "name": "stdout",
     "output_type": "stream",
     "text": [
      "Model: \"transformer_model\"\n",
      "_________________________________________________________________\n",
      " Layer (type)                Output Shape              Param #   \n",
      "=================================================================\n",
      " input_2 (InputLayer)        [(None, 45)]              0         \n",
      "                                                                 \n",
      " wordn_pos_emb (WordnPosEmb)  (None, 45, 300)          8646900   \n",
      "                                                                 \n",
      " transformer_layer (Transfor  (None, 45, 300)          783700    \n",
      " merLayer)                                                       \n",
      "                                                                 \n",
      " global_average_pooling1d (G  (None, 300)              0         \n",
      " lobalAveragePooling1D)                                          \n",
      "                                                                 \n",
      " dense_2 (Dense)             (None, 9)                 2709      \n",
      "                                                                 \n",
      "=================================================================\n",
      "Total params: 9,433,309\n",
      "Trainable params: 9,433,309\n",
      "Non-trainable params: 0\n",
      "_________________________________________________________________\n"
     ]
    }
   ],
   "source": [
    "# building the transformer based model\n",
    "inp = Input(shape=(maxlen,))\n",
    "l = WordnPosEmb(maxlen,x_voc,300,pretrained_weights=emb)(inp)\n",
    "l = TransformerLayer(emb_dim=300,num_heads=2,dense_units=100)(l)\n",
    "l = tf.keras.layers.GlobalAveragePooling1D()(l)\n",
    "out = Dense(len(mapping),activation='softmax')(l)\n",
    "\n",
    "model = Model(inp,out,name='transformer_model')\n",
    "model.compile(loss='sparse_categorical_crossentropy',optimizer=Adam(learning_rate=7e-4),metrics=['accuracy'])\n",
    "model.summary()"
   ]
  },
  {
   "cell_type": "code",
   "execution_count": 29,
   "id": "581836c2",
   "metadata": {},
   "outputs": [
    {
     "name": "stdout",
     "output_type": "stream",
     "text": [
      "Epoch 1/4\n",
      "964/964 [==============================] - 31s 31ms/step - loss: 0.4366 - accuracy: 0.8725 - val_loss: 0.2029 - val_accuracy: 0.9489\n",
      "Epoch 2/4\n",
      "964/964 [==============================] - 48s 50ms/step - loss: 0.1728 - accuracy: 0.9477 - val_loss: 0.1786 - val_accuracy: 0.9556\n",
      "Epoch 3/4\n",
      "964/964 [==============================] - 71s 73ms/step - loss: 0.1195 - accuracy: 0.9610 - val_loss: 0.2183 - val_accuracy: 0.9506\n",
      "Epoch 4/4\n",
      "964/964 [==============================] - 86s 89ms/step - loss: 0.0962 - accuracy: 0.9668 - val_loss: 0.1888 - val_accuracy: 0.9554\n"
     ]
    },
    {
     "data": {
      "text/plain": [
       "<keras.callbacks.History at 0x1d9a8b79d90>"
      ]
     },
     "execution_count": 29,
     "metadata": {},
     "output_type": "execute_result"
    }
   ],
   "source": [
    "# training the model and saving the best weights\n",
    "checkpoint = ModelCheckpoint('transformer_best_weights.h5',save_best_only=True)\n",
    "model.fit(xtrain,ytrain,validation_data=(xval,yval),epochs=4,batch_size=64,callbacks=[checkpoint],class_weight=weight)"
   ]
  },
  {
   "cell_type": "code",
   "execution_count": 30,
   "id": "a205cddc",
   "metadata": {},
   "outputs": [
    {
     "name": "stdout",
     "output_type": "stream",
     "text": [
      "603/603 [==============================] - 10s 16ms/step - loss: 0.1834 - accuracy: 0.9533\n"
     ]
    },
    {
     "data": {
      "text/plain": [
       "[0.18337836861610413, 0.9532506465911865]"
      ]
     },
     "execution_count": 30,
     "metadata": {},
     "output_type": "execute_result"
    }
   ],
   "source": [
    "# loading best weights and evaluating with testing data\n",
    "model.load_weights('transformer_best_weights.h5')\n",
    "model.evaluate(xtest,ytest)"
   ]
  },
  {
   "cell_type": "code",
   "execution_count": 31,
   "id": "6db9ba1b",
   "metadata": {},
   "outputs": [
    {
     "name": "stdout",
     "output_type": "stream",
     "text": [
      "603/603 [==============================] - 4s 7ms/step\n",
      "              precision    recall  f1-score   support\n",
      "\n",
      "           0       0.98      0.98      0.98      8273\n",
      "           1       1.00      0.93      0.96      4183\n",
      "           2       0.94      0.96      0.95      3323\n",
      "           3       0.96      0.97      0.97      1005\n",
      "           4       0.92      0.84      0.88      1699\n",
      "           5       0.93      0.99      0.96        96\n",
      "           6       0.63      0.94      0.75       609\n",
      "           7       0.83      0.98      0.90        55\n",
      "           8       0.66      0.97      0.78        30\n",
      "\n",
      "    accuracy                           0.95     19273\n",
      "   macro avg       0.87      0.95      0.90     19273\n",
      "weighted avg       0.96      0.95      0.95     19273\n",
      "\n"
     ]
    },
    {
     "data": {
      "text/plain": [
       "<AxesSubplot:>"
      ]
     },
     "execution_count": 31,
     "metadata": {},
     "output_type": "execute_result"
    },
    {
     "data": {
      "image/png": "[encoded data removed]",
      "text/plain": [
       "<Figure size 432x432 with 2 Axes>"
      ]
     },
     "metadata": {
      "needs_background": "light"
     },
     "output_type": "display_data"
    }
   ],
   "source": [
    "# classification report and confusion matrix of testing data\n",
    "pred = model.predict(xtest)\n",
    "pred = [np.argmax(x) for x in pred]\n",
    "print(classification_report(ytest,pred))\n",
    "plt.figure(figsize=(6,6))\n",
    "sb.heatmap(confusion_matrix(ytest,pred),annot=True,fmt='d',cmap='Blues')"
   ]
  },
  {
   "cell_type": "code",
   "execution_count": 32,
   "id": "7a6098ac",
   "metadata": {},
   "outputs": [
    {
     "name": "stdout",
     "output_type": "stream",
     "text": [
      "482/482 [==============================] - 4s 9ms/step\n",
      "              precision    recall  f1-score   support\n",
      "\n",
      "           0       0.98      0.98      0.98      6679\n",
      "           1       0.99      0.93      0.96      3421\n",
      "           2       0.95      0.96      0.95      2611\n",
      "           3       0.97      0.98      0.97       776\n",
      "           4       0.92      0.86      0.89      1315\n",
      "           5       0.87      0.99      0.93        75\n",
      "           6       0.63      0.93      0.75       479\n",
      "           7       0.91      0.98      0.94        50\n",
      "           8       0.65      1.00      0.79        13\n",
      "\n",
      "    accuracy                           0.96     15419\n",
      "   macro avg       0.88      0.96      0.91     15419\n",
      "weighted avg       0.96      0.96      0.96     15419\n",
      "\n"
     ]
    },
    {
     "data": {
      "text/plain": [
       "<AxesSubplot:>"
      ]
     },
     "execution_count": 32,
     "metadata": {},
     "output_type": "execute_result"
    },
    {
     "data": {
      "image/png": "[encoded data removed]",
      "text/plain": [
       "<Figure size 432x432 with 2 Axes>"
      ]
     },
     "metadata": {
      "needs_background": "light"
     },
     "output_type": "display_data"
    }
   ],
   "source": [
    "# classification report and confusion matrix of validation data\n",
    "pred = model.predict(xval)\n",
    "pred = [np.argmax(x) for x in pred]\n",
    "print(classification_report(yval,pred))\n",
    "plt.figure(figsize=(6,6))\n",
    "sb.heatmap(confusion_matrix(yval,pred),annot=True,fmt='d',cmap='Blues')"
   ]
  },
  {
   "cell_type": "code",
   "execution_count": 56,
   "id": "c4e4cc87",
   "metadata": {},
   "outputs": [],
   "source": [
    "# after training the model few times, I observe that most of the time,\n",
    "# the transformer model performs better than the LSTM one\n",
    "\n",
    "# now to fill the missing intents\n",
    "\n",
    "input_text = test.tweet_text.apply(lambda x: clean_text(x))"
   ]
  },
  {
   "cell_type": "code",
   "execution_count": 40,
   "id": "a8fb7c13",
   "metadata": {},
   "outputs": [],
   "source": [
    "# prediction function\n",
    "def get_intents(x,tokenizer,model):\n",
    "    x = tokenizer.texts_to_sequences(x)\n",
    "    x = pad_sequences(x,maxlen=maxlen,padding='post')\n",
    "    pred = model.predict(x)\n",
    "    return [np.argmax(x) for x in pred]    "
   ]
  },
  {
   "cell_type": "code",
   "execution_count": 41,
   "id": "1a9aa46b",
   "metadata": {},
   "outputs": [
    {
     "name": "stdout",
     "output_type": "stream",
     "text": [
      "972/972 [==============================] - 4s 4ms/step\n"
     ]
    }
   ],
   "source": [
    "pred = get_intents(input_text,tk,model)\n",
    "\n",
    "reverse_mapping = dict([(mapping[x],x) for x in mapping.keys()])\n",
    "\n",
    "tweet_data = pd.read_csv('Tweet_NFT.xlsx - Sheet1.csv')\n",
    "\n",
    "# filling missing intents\n",
    "for i in test.index:\n",
    "    tweet_id = test.id.loc[i]\n",
    "    ind = tweet_data[tweet_data.id==tweet_id].index[0]\n",
    "    tweet_data.tweet_intent.loc[ind] = reverse_mapping[pred[i]]\n",
    "\n",
    "# save the data to .csv\n",
    "tweet_data.to_csv('filled_missing.csv',index=False)"
   ]
  }
 ],
 "metadata": {
  "kernelspec": {
   "display_name": "Python 3 (ipykernel)",
   "language": "python",
   "name": "python3"
  },
  "language_info": {
   "codemirror_mode": {
    "name": "ipython",
    "version": 3
   },
   "file_extension": ".py",
   "mimetype": "text/x-python",
   "name": "python",
   "nbconvert_exporter": "python",
   "pygments_lexer": "ipython3",
   "version": "3.8.6"
  }
 },
 "nbformat": 4,
 "nbformat_minor": 5
}
